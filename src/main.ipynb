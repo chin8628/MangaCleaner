{
 "cells": [
  {
   "cell_type": "code",
   "execution_count": 1,
   "metadata": {},
   "outputs": [],
   "source": [
    "import logging\n",
    "import math\n",
    "from pathlib import Path\n",
    "\n",
    "import cv2\n",
    "import fire\n",
    "import matplotlib.pyplot as plt\n",
    "import numpy as np\n",
    "from mpl_toolkits.mplot3d import Axes3D"
   ]
  },
  {
   "cell_type": "code",
   "execution_count": 2,
   "metadata": {},
   "outputs": [],
   "source": [
    "from modules.manga109_annotation import Manga109Annotation\n",
    "from modules.label_rect import label"
   ]
  },
  {
   "cell_type": "code",
   "execution_count": 3,
   "metadata": {},
   "outputs": [],
   "source": [
    "path = '../../Dataset_Manga/Manga109/images/AisazuNihaIrarenai/006.jpg'"
   ]
  },
  {
   "cell_type": "code",
   "execution_count": 4,
   "metadata": {},
   "outputs": [],
   "source": [
    "src = cv2.imread(path)[600:753,1301:1403]\n",
    "src_gray = cv2.cvtColor(src, cv2.COLOR_BGR2GRAY)\n",
    "\n",
    "height, width = src.shape[:2]\n",
    "\n",
    "edges = cv2.Canny(src_gray, 160, 200)\n",
    "\n",
    "invert_gray_image = cv2.bitwise_not(src_gray)\n",
    "sobel_x = cv2.Sobel(invert_gray_image, cv2.CV_64F, 1, 0)\n",
    "sobel_y = cv2.Sobel(invert_gray_image, cv2.CV_64F, 0, 1)\n",
    "\n",
    "magnitude, direction = cv2.cartToPolar(sobel_x, sobel_y)"
   ]
  },
  {
   "cell_type": "code",
   "execution_count": 5,
   "metadata": {},
   "outputs": [
    {
     "data": {
      "text/plain": [
       "<matplotlib.image.AxesImage at 0x2cc19d2d710>"
      ]
     },
     "execution_count": 5,
     "metadata": {},
     "output_type": "execute_result"
    },
    {
     "data": {
      "image/png": "[encoded data removed]",
      "text/plain": [
       "<Figure size 432x288 with 1 Axes>"
      ]
     },
     "metadata": {},
     "output_type": "display_data"
    }
   ],
   "source": [
    "plt.imshow(src)"
   ]
  },
  {
   "cell_type": "code",
   "execution_count": 6,
   "metadata": {},
   "outputs": [],
   "source": [
    "import math\n",
    "import numpy as np\n",
    "import logging\n",
    "\n",
    "def get_swt(edges, sobel_x, sobel_y, direction, magnitude, height, width) -> np.ndarray:\n",
    "    rays = []\n",
    "    swt = np.full(edges.shape, np.Infinity)\n",
    "\n",
    "    # Ignore error from divide by zero\n",
    "    np.seterr(divide='ignore', invalid='ignore')\n",
    "\n",
    "    step_x_g, step_y_g = sobel_x, sobel_y\n",
    "\n",
    "    gradient_x_init = np.divide(step_x_g, magnitude)\n",
    "    gradient_y_init = np.divide(step_y_g, magnitude)\n",
    "\n",
    "    for y in range(height):\n",
    "        for x in range(width):\n",
    "            if edges[y][x] == 0:\n",
    "                continue\n",
    "\n",
    "            gradient_x = gradient_x_init[y, x]\n",
    "            gradient_y = gradient_y_init[y, x]\n",
    "\n",
    "            ray = [{'x': x, 'y': y}]\n",
    "            i = 0\n",
    "\n",
    "            while True:\n",
    "                i += 1\n",
    "\n",
    "                try:\n",
    "                    cur_x = math.floor(x + gradient_x * i)\n",
    "                    cur_y = math.floor(y + gradient_y * i)\n",
    "\n",
    "                except ValueError:\n",
    "                    # Catch Nan value when currently position reached to outside a image\n",
    "                    break\n",
    "\n",
    "                try:\n",
    "                    ray.append({'x': cur_x, 'y': cur_y})\n",
    "\n",
    "                    # IF still not found the another edge THEN go to next step\n",
    "                    if edges[cur_y][cur_x] == 0:\n",
    "                        continue\n",
    "\n",
    "                    # Difference between the direction of start edge and another edge\n",
    "                    # IF difference is exceed 90degree THEN ignore this ray\n",
    "                    if abs(abs(round(np.degrees(direction[y, x])) - round(np.degrees(direction[cur_y, cur_x]))) - 180) > 90:\n",
    "                        break\n",
    "\n",
    "                    thickness = math.sqrt((cur_x - x) * (cur_x - x) + (cur_y - y) * (cur_y - y))\n",
    "                    rays.append(ray)\n",
    "\n",
    "                    for pos in ray:\n",
    "                        swt[pos['y'], pos['x']] = min(thickness, swt[pos['y'], pos['x']])\n",
    "\n",
    "                    break\n",
    "\n",
    "                except IndexError:\n",
    "                        break\n",
    "\n",
    "    for ray in rays:\n",
    "        median = np.median([swt[pos['y'], pos['x']] for pos in ray])\n",
    "\n",
    "        for pos in ray:\n",
    "            swt[pos['y'], pos['x']] = min(median, swt[pos['y'], pos['x']])\n",
    "\n",
    "    logging.getLogger(__name__).info('Finished.')\n",
    "\n",
    "    return swt\n"
   ]
  },
  {
   "cell_type": "code",
   "execution_count": 7,
   "metadata": {},
   "outputs": [],
   "source": [
    "swt = get_swt(edges, sobel_x, sobel_y, direction, magnitude, height, width)"
   ]
  },
  {
   "cell_type": "code",
   "execution_count": 8,
   "metadata": {},
   "outputs": [
    {
     "name": "stdout",
     "output_type": "stream",
     "text": [
      "153\n"
     ]
    }
   ],
   "source": [
    "print(len(swt))"
   ]
  },
  {
   "cell_type": "code",
   "execution_count": 9,
   "metadata": {},
   "outputs": [],
   "source": [
    "import logging\n",
    "\n",
    "import numpy as np\n",
    "\n",
    "\n",
    "def get_connected_components(swt: np.ndarray):\n",
    "    class Label(object):\n",
    "        def __init__(self, value):\n",
    "            self.value = value\n",
    "            self.parent = self\n",
    "            self.rank = 0\n",
    "\n",
    "    ld = {}\n",
    "\n",
    "    def make_set(x):\n",
    "        try:\n",
    "            return ld[x]\n",
    "        except KeyError:\n",
    "            item = Label(x)\n",
    "            ld[x] = item\n",
    "            return item\n",
    "\n",
    "    def find(item):\n",
    "        if item.parent != item:\n",
    "            item.parent = find(item.parent)\n",
    "\n",
    "        return item.parent\n",
    "\n",
    "    def union(x, y):\n",
    "        \"\"\"\n",
    "        :param x:\n",
    "        :param y:\n",
    "        :return: root node of new union tree\n",
    "        \"\"\"\n",
    "        x_root = find(x)\n",
    "        y_root = find(y)\n",
    "        if x_root == y_root:\n",
    "            return x_root\n",
    "\n",
    "        if x_root.rank < y_root.rank:\n",
    "            x_root.parent = y_root\n",
    "            return y_root\n",
    "        elif x_root.rank > y_root.rank:\n",
    "            y_root.parent = x_root\n",
    "            return x_root\n",
    "        else:\n",
    "            y_root.parent = x_root\n",
    "            x_root.rank += 1\n",
    "            return x_root\n",
    "\n",
    "    trees = {}\n",
    "    label_map = np.zeros(shape=swt.shape, dtype=np.uint16)\n",
    "    next_label = 1\n",
    "\n",
    "    swt_ratio_threshold = 3.0\n",
    "\n",
    "    for y in range(swt.shape[0]):\n",
    "        for x in range(swt.shape[1]):\n",
    "\n",
    "            sw_point = swt[y, x]\n",
    "            if 0 < sw_point < np.Infinity:\n",
    "                neighbors = [(y, x - 1),  # west\n",
    "                             (y - 1, x - 1),  # northwest\n",
    "                             (y - 1, x),  # north\n",
    "                             (y - 1, x + 1)]  # northeast\n",
    "                connected_neighbors = None\n",
    "                neighbor_values = []\n",
    "\n",
    "                for neighbor in neighbors:\n",
    "                    try:\n",
    "                        sw_n = swt[neighbor]\n",
    "                        label_n = label_map[neighbor]\n",
    "                    except IndexError:\n",
    "                        continue\n",
    "                    if label_n > 0 and sw_n / sw_point < swt_ratio_threshold and sw_point / sw_n < swt_ratio_threshold:\n",
    "                        neighbor_values.append(label_n)\n",
    "                        if connected_neighbors:\n",
    "                            connected_neighbors = union(connected_neighbors, make_set(label_n))\n",
    "                        else:\n",
    "                            connected_neighbors = make_set(label_n)\n",
    "\n",
    "                if not connected_neighbors:\n",
    "                    trees[next_label] = make_set(next_label)\n",
    "                    label_map[y, x] = next_label\n",
    "                    next_label += 1\n",
    "                else:\n",
    "                    label_map[y, x] = min(neighbor_values)\n",
    "                    trees[connected_neighbors.value] = union(trees[connected_neighbors.value], connected_neighbors)\n",
    "\n",
    "    layers = {}\n",
    "    for x in range(swt.shape[1]):\n",
    "        for y in range(swt.shape[0]):\n",
    "            if label_map[y, x] <= 0:\n",
    "                continue\n",
    "\n",
    "            item = ld[label_map[y, x]]\n",
    "            common_label = find(item).value\n",
    "            label_map[y, x] = common_label\n",
    "\n",
    "            try:\n",
    "                layer = layers[common_label]\n",
    "            except KeyError:\n",
    "                layers[common_label] = np.zeros(\n",
    "                    shape=swt.shape, dtype=np.uint16)\n",
    "                layer = layers[common_label]\n",
    "\n",
    "            layer[y, x] = 1\n",
    "\n",
    "    logging.getLogger(__name__).info('Finished.')\n",
    "\n",
    "    return layers, label_map\n"
   ]
  },
  {
   "cell_type": "code",
   "execution_count": 10,
   "metadata": {},
   "outputs": [],
   "source": [
    "connected_components, label_map = get_connected_components(swt)"
   ]
  },
  {
   "cell_type": "code",
   "execution_count": 11,
   "metadata": {},
   "outputs": [
    {
     "name": "stdout",
     "output_type": "stream",
     "text": [
      "34\n"
     ]
    }
   ],
   "source": [
    "print(len(connected_components))"
   ]
  },
  {
   "cell_type": "code",
   "execution_count": 12,
   "metadata": {},
   "outputs": [],
   "source": [
    "import logging\n",
    "import math\n",
    "\n",
    "import numpy as np\n",
    "\n",
    "\n",
    "def get_letters(swt: np.ndarray, connected_components: dict):\n",
    "    swt_values, heights, widths, diameters, topleft_pts = [], [], [], [], []\n",
    "\n",
    "    cnt = 0\n",
    "\n",
    "    for label, layer in connected_components.items():\n",
    "        # if cnt >= 100:\n",
    "        #     break\n",
    "\n",
    "        nz_y, nz_x = layer.nonzero()\n",
    "        east, west, south, north = max(nz_x), min(nz_x), max(nz_y), min(nz_y)\n",
    "        width, height = east - west, south - north\n",
    "\n",
    "        if (height <= 5 or height >= 300) and (width <= 5 or width >= 300):\n",
    "            continue\n",
    "            \n",
    "        diameter = math.sqrt(width * width + height * height)\n",
    "        median_swt = np.median(swt[(nz_y, nz_x)])\n",
    "\n",
    "        if diameter / median_swt <= 1 or diameter / median_swt > 20:\n",
    "            continue\n",
    "\n",
    "        swt_values.append(median_swt)\n",
    "        heights.append(height)\n",
    "        topleft_pts.append((north, west))\n",
    "        widths.append(width)\n",
    "        diameters.append(diameter)\n",
    "\n",
    "        cnt += 1\n",
    "\n",
    "    logging.getLogger(__name__).info('Finished.')\n",
    "\n",
    "    return swt_values, heights, widths, diameters, topleft_pts\n"
   ]
  },
  {
   "cell_type": "code",
   "execution_count": 13,
   "metadata": {},
   "outputs": [],
   "source": [
    "swt_values, heights, widths, diameters, topleft_pts = get_letters(swt, connected_components)"
   ]
  },
  {
   "cell_type": "code",
   "execution_count": 14,
   "metadata": {},
   "outputs": [],
   "source": [
    "import logging\n",
    "from typing import List, Tuple\n",
    "\n",
    "import scipy.sparse\n",
    "import scipy.spatial\n",
    "import numpy as np\n",
    "\n",
    "\n",
    "def get_words(swts: List[int], heights: List[int], widths: List[int], topleft_pts: Tuple[int, int]):\n",
    "    swts_array = np.asarray([[i] for i in swts])\n",
    "    heights_array = np.asarray([[i] for i in heights])\n",
    "    topleft_pts_array = np.array(topleft_pts)\n",
    "\n",
    "    if len(swts_array) == 0 or len(heights_array) == 0 or len(topleft_pts_array) == 0:\n",
    "        return []\n",
    "\n",
    "    swt_tree = scipy.spatial.KDTree(swts_array)\n",
    "    stp = swt_tree.query_pairs(4)\n",
    "\n",
    "    height_tree = scipy.spatial.KDTree(heights_array)\n",
    "    htp = set(height_tree.query_pairs(4))\n",
    "\n",
    "    isect = htp.intersection(stp)\n",
    "\n",
    "    if len(isect) == 0:\n",
    "        return []\n",
    "    \n",
    "    chains = []    \n",
    "    for idx1, idx2 in isect:\n",
    "        widest = max(widths[idx1], widths[idx2])\n",
    "        distance = np.linalg.norm(topleft_pts_array[idx1] - topleft_pts_array[idx2])\n",
    "        if distance >= widest * 2.5:\n",
    "            continue\n",
    "            \n",
    "        added = False\n",
    "        for chain in chains:\n",
    "            if idx1 not in chain and idx2 in chain:\n",
    "                chain.append(idx1)\n",
    "                added = True\n",
    "            elif idx1 in chain and idx2 not in chain:\n",
    "                chain.append(idx2)\n",
    "                added = True\n",
    "                \n",
    "        if not added:\n",
    "            chains.append([idx1, idx2])\n",
    "  \n",
    "    words = []\n",
    "    for chain in chains:\n",
    "        word_swts = []\n",
    "        east_word, west_word, south_word, north_word = 0, np.inf, 0, np.inf\n",
    "\n",
    "        for idx in chain:\n",
    "            north, west = topleft_pts[idx]\n",
    "            south, east = north + heights[idx], west + widths[idx]\n",
    "\n",
    "            east_word = max(east_word, east)\n",
    "            west_word = min(west_word, west)\n",
    "            south_word = max(south_word, south)\n",
    "            north_word = min(north_word, north)\n",
    "\n",
    "            word_swts.append(swts[idx])\n",
    "\n",
    "        width, height = east_word - west_word, south_word - north_word\n",
    "\n",
    "        words.append({\n",
    "            'swt': np.median(word_swts),\n",
    "            'height': height,\n",
    "            'width': width,\n",
    "            'topleft_pt': (north_word, west_word)\n",
    "        })\n",
    "\n",
    "    logging.getLogger(__name__).info('Finished.')\n",
    "\n",
    "    return words\n"
   ]
  },
  {
   "cell_type": "code",
   "execution_count": 15,
   "metadata": {},
   "outputs": [],
   "source": [
    "words = get_words(swt_values, heights, widths, topleft_pts)"
   ]
  },
  {
   "cell_type": "code",
   "execution_count": 16,
   "metadata": {},
   "outputs": [],
   "source": [
    "widths, heights, topleft_pts = [], [], []\n",
    "for datum in words:\n",
    "    topleft_pts.append((datum['topleft_pt'][0], datum['topleft_pt'][1]))\n",
    "    widths.append(datum['width'])\n",
    "    heights.append(datum['height'])\n",
    "\n",
    "img = src.copy()\n",
    "for index in range(0, len(topleft_pts)):\n",
    "    cv2.rectangle(\n",
    "        img,\n",
    "        (topleft_pts[index][1], topleft_pts[index][0]),\n",
    "        (topleft_pts[index][1] + widths[index], topleft_pts[index][0] + heights[index]),\n",
    "        (255,0,0),\n",
    "        2\n",
    "    )"
   ]
  },
  {
   "cell_type": "code",
   "execution_count": 17,
   "metadata": {},
   "outputs": [
    {
     "data": {
      "text/plain": [
       "<matplotlib.image.AxesImage at 0x2cc22ed4cc0>"
      ]
     },
     "execution_count": 17,
     "metadata": {},
     "output_type": "execute_result"
    },
    {
     "data": {
      "image/png": "[encoded data removed]",
      "text/plain": [
       "<Figure size 720x1440 with 1 Axes>"
      ]
     },
     "metadata": {},
     "output_type": "display_data"
    }
   ],
   "source": [
    "fig, ax = plt.subplots(figsize=(10, 20))\n",
    "ax.imshow(img)"
   ]
  },
  {
   "cell_type": "code",
   "execution_count": null,
   "metadata": {},
   "outputs": [],
   "source": []
  },
  {
   "cell_type": "code",
   "execution_count": null,
   "metadata": {},
   "outputs": [],
   "source": []
  }
 ],
 "metadata": {
  "kernelspec": {
   "display_name": "Python 3",
   "language": "python",
   "name": "python3"
  },
  "language_info": {
   "codemirror_mode": {
    "name": "ipython",
    "version": 3
   },
   "file_extension": ".py",
   "mimetype": "text/x-python",
   "name": "python",
   "nbconvert_exporter": "python",
   "pygments_lexer": "ipython3",
   "version": "3.7.0"
  }
 },
 "nbformat": 4,
 "nbformat_minor": 2
}
